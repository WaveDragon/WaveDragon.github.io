{
 "cells": [
  {
   "cell_type": "code",
   "execution_count": 4,
   "metadata": {},
   "outputs": [],
   "source": [
    "def calculateI(i):\n",
    "    if (i == 1) or (i == 2):\n",
    "        return 1\n",
    "    else:\n",
    "        return calculateI(i-1) + calculateI(i-2)"
   ]
  },
  {
   "cell_type": "code",
   "execution_count": 5,
   "metadata": {},
   "outputs": [
    {
     "data": {
      "text/plain": [
       "21"
      ]
     },
     "execution_count": 5,
     "metadata": {},
     "output_type": "execute_result"
    }
   ],
   "source": [
    "calculateI(8)"
   ]
  },
  {
   "cell_type": "code",
   "execution_count": 12,
   "metadata": {},
   "outputs": [
    {
     "name": "stdout",
     "output_type": "stream",
     "text": [
      "1\n"
     ]
    }
   ],
   "source": [
    "def min_anger(n, x, row1, row2):\n",
    "    positions = [0] * (2 * n)\n",
    "    for i in range(n):\n",
    "        if row1[i] == '2':\n",
    "            positions[i] += 1\n",
    "            if i > 0:\n",
    "                positions[i - 1] += 1\n",
    "            if i < n - 1:\n",
    "                positions[i + 1] += 1\n",
    "            positions[n + i] += 1\n",
    "        if row2[i] == '2':\n",
    "            positions[n + i] += 1\n",
    "            if i > 0:\n",
    "                positions[n + i - 1] += 1\n",
    "            if i < n - 1:\n",
    "                positions[n + i + 1] += 1\n",
    "            positions[i] += 1\n",
    "\n",
    "    anger = 0\n",
    "    for i in range(2 * n):\n",
    "        if x == 0:\n",
    "            break\n",
    "        if positions[i] == 0:\n",
    "            x -= 1\n",
    "    for i in range(2 * n):\n",
    "        if positions[i] > 0:\n",
    "            if x > 0:\n",
    "                anger += positions[i]\n",
    "                x -= 1\n",
    "\n",
    "    return anger\n",
    "\n",
    "# 读入数据\n",
    "n, x = map(int, input().split())\n",
    "row1 = input().strip()\n",
    "row2 = input().strip()\n",
    "\n",
    "# 输出最小愤怒值\n",
    "print(min_anger(n, x, row1, row2))\n"
   ]
  },
  {
   "cell_type": "code",
   "execution_count": 14,
   "metadata": {},
   "outputs": [
    {
     "name": "stdout",
     "output_type": "stream",
     "text": [
      "GBBR\n"
     ]
    }
   ],
   "source": [
    "from collections import defaultdict\n",
    "\n",
    "# 使用DFS为树进行染色\n",
    "def dfs(node, parent_color, grandparent_color, tree, colors):\n",
    "    # 选择一个既不与父亲颜色相同，也不与父亲的父亲颜色相同的颜色\n",
    "    for color in ['R', 'G', 'B']:\n",
    "        if color != parent_color and color != grandparent_color:\n",
    "            colors[node] = color\n",
    "            break\n",
    "    \n",
    "    # 遍历当前节点的所有孩子节点\n",
    "    for child in tree[node]:\n",
    "        dfs(child, colors[node], parent_color, tree, colors)\n",
    "\n",
    "n = int(input())\n",
    "tree = defaultdict(list)\n",
    "colors = [''] * (n + 1)\n",
    "\n",
    "# 构建树\n",
    "for _ in range(n-1):\n",
    "    u, v = map(int, input().split())\n",
    "    tree[u].append(v)\n",
    "\n",
    "# 从根节点开始DFS\n",
    "dfs(1, '', '', tree, colors)\n",
    "print(''.join(colors[1:]))\n"
   ]
  },
  {
   "cell_type": "code",
   "execution_count": 19,
   "metadata": {},
   "outputs": [
    {
     "name": "stdout",
     "output_type": "stream",
     "text": [
      "0\n"
     ]
    }
   ],
   "source": [
    "def count_adjacent_twos(matrix, i, j, n):\n",
    "    # 计算(i,j)位置周围的2的数量\n",
    "    count = 0\n",
    "    \n",
    "    # 上面\n",
    "    if i - 1 >= 0:\n",
    "        count += matrix[i-1][j] == 2\n",
    "    # 下面\n",
    "    if i + 1 < 2:\n",
    "        count += matrix[i+1][j] == 2\n",
    "    # 左边\n",
    "    if j - 1 >= 0:\n",
    "        count += matrix[i][j-1] == 2\n",
    "    # 右边\n",
    "    if j + 1 < n:\n",
    "        count += matrix[i][j+1] == 2\n",
    "    # 对面\n",
    "    count += matrix[1 - i][j] == 2\n",
    "    \n",
    "    return count\n",
    "\n",
    "def min_angry_value(n, x, row1, row2):\n",
    "    matrix = [row1, row2]\n",
    "    \n",
    "    # 按照每个位置周围2的数量排序\n",
    "    positions = [(i, j) for i in range(2) for j in range(n)]\n",
    "    positions.sort(key=lambda pos: count_adjacent_twos(matrix, *pos, n))\n",
    "    \n",
    "    # 按照排序放置蘑菇\n",
    "    angry_value = 0\n",
    "    for i in range(min(x, len(positions))):\n",
    "        pos = positions[i]\n",
    "        angry_value += count_adjacent_twos(matrix, *pos, n)\n",
    "    \n",
    "    return angry_value\n",
    "\n",
    "# 输入\n",
    "n, x = map(int, input().split())\n",
    "row1 = list(map(int, input().strip()))\n",
    "row2 = list(map(int, input().strip()))\n",
    "\n",
    "# 输出\n",
    "print(min_angry_value(n, x, row1, row2))\n"
   ]
  },
  {
   "cell_type": "code",
   "execution_count": 21,
   "metadata": {},
   "outputs": [
    {
     "name": "stdout",
     "output_type": "stream",
     "text": [
      "-1\n"
     ]
    }
   ],
   "source": [
    "def count_adjacent_twos(matrix, i, j, n):\n",
    "    # 计算(i,j)位置周围的2的数量\n",
    "    count = 0\n",
    "    \n",
    "    # 上面\n",
    "    if i - 1 >= 0:\n",
    "        count += matrix[i-1][j] == '2'\n",
    "    # 下面\n",
    "    if i + 1 < 2:\n",
    "        count += matrix[i+1][j] == '2'\n",
    "    # 左边\n",
    "    if j - 1 >= 0:\n",
    "        count += matrix[i][j-1] == '2'\n",
    "    # 右边\n",
    "    if j + 1 < n:\n",
    "        count += matrix[i][j+1] == '2'\n",
    "    # 对面\n",
    "    count += matrix[1 - i][j] == '2'\n",
    "    \n",
    "    # 对于边角的特殊处理\n",
    "    if i == 0 and j == 0 or i == 0 and j == n-1 or i == 1 and j == 0 or i == 1 and j == n-1:\n",
    "        return count - 1  # 由于边角位置少一个邻居，因此总数要减1\n",
    "    \n",
    "    return count\n",
    "\n",
    "def min_angry_value(n, x, row1, row2):\n",
    "    matrix = [row1, row2]\n",
    "    \n",
    "    # 按照每个位置周围2的数量排序\n",
    "    positions = [(i, j) for i in range(2) for j in range(n)]\n",
    "    positions.sort(key=lambda pos: count_adjacent_twos(matrix, *pos, n))\n",
    "    \n",
    "    # 按照排序放置蘑菇\n",
    "    angry_value = 0\n",
    "    for i in range(min(x, len(positions))):\n",
    "        pos = positions[i]\n",
    "        angry_value += count_adjacent_twos(matrix, *pos, n)\n",
    "    \n",
    "    return angry_value\n",
    "\n",
    "# 输入\n",
    "n, x = map(int, input().split())\n",
    "row1 = input().strip()\n",
    "row2 = input().strip()\n",
    "\n",
    "# 输出\n",
    "print(min_angry_value(n, x, row1, row2))\n"
   ]
  },
  {
   "cell_type": "code",
   "execution_count": 41,
   "metadata": {},
   "outputs": [
    {
     "name": "stdout",
     "output_type": "stream",
     "text": [
      "10\n"
     ]
    }
   ],
   "source": [
    "def count_adjacent_twos(matrix, i, j, n):\n",
    "    count = 0\n",
    "    # 上面\n",
    "    if i - 1 >= 0:\n",
    "        count += matrix[i-1][j] == '2'\n",
    "    # 下面\n",
    "    if i + 1 < 2:\n",
    "        count += matrix[i+1][j] == '2'\n",
    "    # 左边\n",
    "    if j - 1 >= 0:\n",
    "        count += matrix[i][j-1] == '2'\n",
    "    # 右边\n",
    "    if j + 1 < n:\n",
    "        count += matrix[i][j+1] == '2'\n",
    "    \n",
    "    # 判断当前位置的人是否为2\n",
    "    count += matrix[i][j] == '2'\n",
    "    \n",
    "    # 对面\n",
    "    count += matrix[1 - i][j] == '2'\n",
    "    \n",
    "    return count\n",
    "\n",
    "def min_angry_value(n, x, row1, row2):\n",
    "    matrix = [row1, row2]\n",
    "    \n",
    "    # 按照每个位置周围2的数量排序\n",
    "    positions = [(i, j) for i in range(2) for j in range(n)]\n",
    "    positions.sort(key=lambda pos: count_adjacent_twos(matrix, *pos, n))\n",
    "    \n",
    "    # 按照排序放置蘑菇\n",
    "    angry_value = 0\n",
    "    placed_positions = set()\n",
    "    for i in range(min(x, len(positions))):\n",
    "        pos = positions[i]\n",
    "        current_angry = count_adjacent_twos(matrix, *pos, n)\n",
    "        \n",
    "        # 检查对面的位置是否已经放了蘑菇\n",
    "        if (1 - pos[0], pos[1]) in placed_positions:\n",
    "            if matrix[pos[0]][pos[1]] == '2' and matrix[1 - pos[0]][pos[1]] != '2':\n",
    "                current_angry -= 1\n",
    "            if matrix[1 - pos[0]][pos[1]] == '2' and matrix[pos[0]][pos[1]] != '2':\n",
    "                current_angry -= 1\n",
    "        \n",
    "        angry_value += current_angry\n",
    "        placed_positions.add(pos)\n",
    "    \n",
    "    return angry_value\n",
    "\n",
    "# 输入\n",
    "n, x = map(int, input().split())\n",
    "row1 = input().strip()\n",
    "row2 = input().strip()\n",
    "\n",
    "# 输出\n",
    "print(min_angry_value(n, x, row1, row2))\n"
   ]
  },
  {
   "cell_type": "code",
   "execution_count": 37,
   "metadata": {},
   "outputs": [
    {
     "name": "stdout",
     "output_type": "stream",
     "text": [
      "RGGB\n"
     ]
    }
   ],
   "source": [
    "def dfs(node, color, parent_color, tree, result):\n",
    "    # 选择一个与父节点和祖父节点都不同的颜色\n",
    "    for node_color in ['R', 'G', 'B']:\n",
    "        if node_color != color and node_color != parent_color:\n",
    "            break\n",
    "\n",
    "    result[node] = node_color\n",
    "\n",
    "    # 遍历当前节点的子节点\n",
    "    for child in tree.get(node, []):\n",
    "        dfs(child, node_color, color, tree, result)\n",
    "\n",
    "def color_tree(n, edges):\n",
    "    tree = {}  # 使用字典表示树结构\n",
    "    for u, v in edges:\n",
    "        if u not in tree:\n",
    "            tree[u] = []\n",
    "        tree[u].append(v)\n",
    "\n",
    "    result = [''] * (n + 1)  # 为了从1开始，所以长度为n+1\n",
    "    dfs(1, '', '', tree, result)\n",
    "\n",
    "    return ''.join(result[1:])\n",
    "\n",
    "# 测试\n",
    "edges = [(1, 2), (3, 4), (1, 3)]\n",
    "print(color_tree(4, edges))\n",
    "\n"
   ]
  },
  {
   "cell_type": "code",
   "execution_count": 40,
   "metadata": {},
   "outputs": [
    {
     "name": "stdout",
     "output_type": "stream",
     "text": [
      "10\n"
     ]
    }
   ],
   "source": [
    "def count_2s_around(seat, row1, row2):\n",
    "    row, col = seat\n",
    "    count = 0\n",
    "    \n",
    "    # 当前座位\n",
    "    if row == 1:\n",
    "        if row1[col-1] == '2':\n",
    "            count += 1\n",
    "    else:\n",
    "        if row2[col-1] == '2':\n",
    "            count += 1\n",
    "    \n",
    "    # 左边座位\n",
    "    if col > 1:\n",
    "        if row == 1 and row1[col-2] == '2':\n",
    "            count += 1\n",
    "        if row == 2 and row2[col-2] == '2':\n",
    "            count += 1\n",
    "\n",
    "    # 右边座位\n",
    "    if col < len(row1):\n",
    "        if row == 1 and row1[col] == '2':\n",
    "            count += 1\n",
    "        if row == 2 and row2[col] == '2':\n",
    "            count += 1\n",
    "\n",
    "    # 对面座位\n",
    "    if row == 1 and row2[col-1] == '2':\n",
    "        count += 1\n",
    "    if row == 2 and row1[col-1] == '2':\n",
    "        count += 1\n",
    "    \n",
    "    return count\n",
    "\n",
    "def min_anger_value(n, x, row1, row2):\n",
    "    seats = [(1, i+1) for i in range(n)] + [(2, i+1) for i in range(n)]\n",
    "    seat_2_counts = [(seat, count_2s_around(seat, row1, row2)) for seat in seats]\n",
    "\n",
    "    # 按count_of_2从小到大排序\n",
    "    seat_2_counts.sort(key=lambda t: t[1])\n",
    "    \n",
    "    # 前x个位置放蘑菇\n",
    "    mushrooms = set(seat_2_counts[i][0] for i in range(x))\n",
    "\n",
    "    total_anger = 0\n",
    "    for seat in seats:\n",
    "        if seat in mushrooms:\n",
    "            total_anger += count_2s_around(seat, row1, row2)\n",
    "    \n",
    "    return total_anger\n",
    "\n",
    "if __name__ == \"__main__\":\n",
    "    n, x = map(int, input().split())\n",
    "    row1 = input().strip()\n",
    "    row2 = input().strip()\n",
    "    \n",
    "    print(min_anger_value(n, x, row1, row2))\n"
   ]
  },
  {
   "cell_type": "code",
   "execution_count": 5,
   "metadata": {},
   "outputs": [
    {
     "name": "stdout",
     "output_type": "stream",
     "text": [
      "4\n"
     ]
    }
   ],
   "source": [
    "def josephus(n, m):\n",
    "    if n == 1:\n",
    "        return 0\n",
    "    else:\n",
    "        prev = 0\n",
    "        for i in range(2, n + 1):\n",
    "            prev = (prev + m) % i\n",
    "        return prev\n",
    "\n",
    "if __name__ == '__main__':\n",
    "    n, m = map(int, input().split())\n",
    "    result = josephus(n, m) + 1  # +1是因为题目的编号是从1开始的\n",
    "    print(result)\n"
   ]
  },
  {
   "cell_type": "code",
   "execution_count": 6,
   "metadata": {},
   "outputs": [
    {
     "name": "stdout",
     "output_type": "stream",
     "text": [
      "2\n"
     ]
    }
   ],
   "source": [
    "def min_nums_to_sum(N, M, nums):\n",
    "    nums.sort()  # 先对数字进行排序\n",
    "    min_count = [float('inf')]  # 使用列表来存储当前找到的最少的数字个数\n",
    "\n",
    "    def dfs(start, target, count):\n",
    "        if count + (target // nums[start] if start < N else 0) >= min_count[0]:\n",
    "            # 基于当前最大可能的数字进行剪枝\n",
    "            return\n",
    "        if target == 0:\n",
    "            min_count[0] = min(min_count[0], count)\n",
    "            return\n",
    "        if start == N:  # 如果所有数字都已被尝试\n",
    "            return\n",
    "\n",
    "        # 尝试不选取当前数字\n",
    "        dfs(start + 1, target, count)\n",
    "\n",
    "        # 尝试选取当前数字\n",
    "        if target >= nums[start]:\n",
    "            dfs(start + 1, target - nums[start], count + 1)\n",
    "\n",
    "    dfs(0, M, 0)\n",
    "    return min_count[0] if min_count[0] != float('inf') else \"No solution\"\n",
    "\n",
    "if __name__ == '__main__':\n",
    "    N, M = map(int, input().split())\n",
    "    nums = list(map(int, input().split()))\n",
    "    result = min_nums_to_sum(N, M, nums)\n",
    "    print(result)\n"
   ]
  },
  {
   "cell_type": "code",
   "execution_count": 7,
   "metadata": {},
   "outputs": [
    {
     "name": "stdout",
     "output_type": "stream",
     "text": [
      "3\n"
     ]
    }
   ],
   "source": [
    "def lastRemaining(n, m):\n",
    "    if n == 1:\n",
    "        return 1\n",
    "    if n % 2 == 1:\n",
    "        return (lastRemaining(n - 1, m) + m) % n + 1\n",
    "    else:\n",
    "        return (n - 1 - lastRemaining(n - 1, m) + m) % n + 1\n",
    "\n",
    "n, m = map(int, input().split())\n",
    "print(lastRemaining(n, m))\n"
   ]
  },
  {
   "cell_type": "code",
   "execution_count": 8,
   "metadata": {},
   "outputs": [
    {
     "name": "stdout",
     "output_type": "stream",
     "text": [
      "5\n"
     ]
    }
   ],
   "source": [
    "def lastRemaining(n, m):\n",
    "    people = [True] * n\n",
    "    idx = 0\n",
    "    direction = 1\n",
    "    count = 0\n",
    "    num = 0\n",
    "\n",
    "    while count < n - 1:\n",
    "        if people[idx]:\n",
    "            num += 1\n",
    "            if num == m:\n",
    "                people[idx] = False\n",
    "                count += 1\n",
    "                num = 0\n",
    "        idx += direction\n",
    "        if idx == n:\n",
    "            direction = -1\n",
    "            idx = n - 2\n",
    "        elif idx == -1:\n",
    "            direction = 1\n",
    "            idx = 0\n",
    "\n",
    "    for i in range(n):\n",
    "        if people[i]:\n",
    "            return i + 1\n",
    "\n",
    "n, m = map(int, input().split())\n",
    "print(lastRemaining(n, m))\n"
   ]
  },
  {
   "cell_type": "code",
   "execution_count": 10,
   "metadata": {},
   "outputs": [
    {
     "name": "stdout",
     "output_type": "stream",
     "text": [
      "2\n"
     ]
    }
   ],
   "source": [
    "def lastRemaining(n, m, direction=1):\n",
    "    if n == 1:\n",
    "        return 0\n",
    "    if direction == 1:  # 从左向右\n",
    "        return (lastRemaining(n - 1, m, -1) + m) % n\n",
    "    else:  # 从右向左\n",
    "        return (lastRemaining(n - 1, m, 1) - m + n) % n\n",
    "\n",
    "n, m = map(int, input().split())\n",
    "print(lastRemaining(n, m) + 1)  # 加1是因为我们是从0开始计数的\n"
   ]
  },
  {
   "cell_type": "code",
   "execution_count": 11,
   "metadata": {},
   "outputs": [
    {
     "name": "stdout",
     "output_type": "stream",
     "text": [
      "2\n"
     ]
    }
   ],
   "source": [
    "def dfs(nums, target, start, count):\n",
    "    # 如果目标为0，则找到解\n",
    "    if target == 0:\n",
    "        return count\n",
    "    # 如果搜索结束或目标变为负数，则返回无解\n",
    "    if start >= len(nums) or target < 0:\n",
    "        return float('inf')\n",
    "    \n",
    "    # 选择当前数字或跳过当前数字\n",
    "    use_curr = dfs(nums, target - nums[start], start + 1, count + 1)\n",
    "    skip_curr = dfs(nums, target, start + 1, count)\n",
    "    \n",
    "    return min(use_curr, skip_curr)\n",
    "\n",
    "def min_subset_sum(nums, target):\n",
    "    # 从大到小排序，优先使用较大的数字\n",
    "    nums.sort(reverse=True)\n",
    "    \n",
    "    result = dfs(nums, target, 0, 0)\n",
    "    return result if result != float('inf') else \"No solution\"\n",
    "\n",
    "if __name__ == \"__main__\":\n",
    "    N, M = map(int, input().split())\n",
    "    numbers = list(map(int, input().split()))\n",
    "\n",
    "    print(min_subset_sum(numbers, M))\n"
   ]
  },
  {
   "cell_type": "code",
   "execution_count": 16,
   "metadata": {},
   "outputs": [
    {
     "name": "stdout",
     "output_type": "stream",
     "text": [
      "2\n"
     ]
    }
   ],
   "source": [
    "def lastRemaining(n, m, direction=1):\n",
    "    if n == 1:\n",
    "        return 0\n",
    "    last = lastRemaining(n - 1, m, -direction)\n",
    "    if direction == 1:  # 从左向右\n",
    "        return (last + m) % n\n",
    "    else:  # 从右向左\n",
    "        return (n - 1 - (m - 1 - last + n) % n) % n\n",
    "\n",
    "n, m = map(int, input().split())\n",
    "print(lastRemaining(n, m) + 1)  # 加1是因为我们是从0开始计数的\n"
   ]
  },
  {
   "cell_type": "code",
   "execution_count": 15,
   "metadata": {},
   "outputs": [
    {
     "name": "stdout",
     "output_type": "stream",
     "text": [
      "3\n"
     ]
    }
   ],
   "source": [
    "def lastRemaining(n, m):\n",
    "    # 当只有一个人时，位置为0\n",
    "    last_pos = 0\n",
    "    direction = 1\n",
    "    \n",
    "    # 从2个人开始迭代，直到n个人\n",
    "    for i in range(2, n + 1):\n",
    "        if direction == 1:  # 从左向右\n",
    "            last_pos = (last_pos + m) % i\n",
    "            direction = -1\n",
    "        else:  # 从右向左\n",
    "            last_pos = (i - 1 - (m - 1 - last_pos + i) % i) % i\n",
    "            direction = 1\n",
    "\n",
    "    return last_pos\n",
    "\n",
    "n, m = map(int, input().split())\n",
    "print(lastRemaining(n, m) + 1)  # 加1是因为我们是从0开始计数的\n"
   ]
  },
  {
   "cell_type": "code",
   "execution_count": 17,
   "metadata": {},
   "outputs": [
    {
     "name": "stdout",
     "output_type": "stream",
     "text": [
      "2\n"
     ]
    }
   ],
   "source": [
    "def dfs(nums, target, start, count):\n",
    "    # 如果目标为0，则找到解\n",
    "    if target == 0:\n",
    "        return count\n",
    "    # 如果搜索结束或目标变为负数，则返回无解\n",
    "    if start >= len(nums) or target < 0:\n",
    "        return float('inf')\n",
    "    \n",
    "    # 选择当前数字或跳过当前数字\n",
    "    use_curr = dfs(nums, target - nums[start], start + 1, count + 1)\n",
    "    skip_curr = dfs(nums, target, start + 1, count)\n",
    "    \n",
    "    return min(use_curr, skip_curr)\n",
    "\n",
    "def min_subset_sum(nums, target):\n",
    "    # 从大到小排序，优先使用较大的数字\n",
    "    nums.sort(reverse=True)\n",
    "    \n",
    "    result = dfs(nums, target, 0, 0)\n",
    "    return result if result != float('inf') else \"No solution\"\n",
    "\n",
    "if __name__ == \"__main__\":\n",
    "    N, M = map(int, input().split())\n",
    "    numbers = list(map(int, input().split()))\n",
    "\n",
    "    print(min_subset_sum(numbers, M))"
   ]
  },
  {
   "cell_type": "code",
   "execution_count": 18,
   "metadata": {},
   "outputs": [
    {
     "name": "stdout",
     "output_type": "stream",
     "text": [
      "4\n"
     ]
    }
   ],
   "source": [
    "def josephus(n, m):\n",
    "    if n == 1:\n",
    "        return 1\n",
    "    if n % 2 == 0:\n",
    "        return (josephus(n - 1, m) + m) % n\n",
    "    else:\n",
    "        return (josephus(n - 1, m) + m) % n + 1\n",
    "\n",
    "# Test\n",
    "n, m = map(int, input().split())\n",
    "print(josephus(n, m))"
   ]
  },
  {
   "cell_type": "code",
   "execution_count": 19,
   "metadata": {},
   "outputs": [
    {
     "name": "stdout",
     "output_type": "stream",
     "text": [
      "4\n"
     ]
    }
   ],
   "source": [
    "def find_last_person(n, m):\n",
    "    people = list(range(1, n + 1))\n",
    "    index = 0  # 报数的起始位置\n",
    "    while len(people) > 1:\n",
    "        index = (index + m - 1) % len(people)  # 计算出列的人的位置\n",
    "        people.pop(index)  # 出列\n",
    "    return people[0]\n",
    "\n",
    "# 输入\n",
    "n, m = map(int, input().split())\n",
    "# 输出\n",
    "print(find_last_person(n, m))\n"
   ]
  },
  {
   "cell_type": "code",
   "execution_count": 20,
   "metadata": {},
   "outputs": [
    {
     "name": "stdout",
     "output_type": "stream",
     "text": [
      "4\n"
     ]
    }
   ],
   "source": [
    "def josephus(n, m):\n",
    "    if n == 1:\n",
    "        return 1\n",
    "    else:\n",
    "        return (josephus(n-1, m) + m - 1) % n + 1\n",
    "\n",
    "def find_last_person(n, m):\n",
    "    # 确定正向还是反向报数\n",
    "    if (n - 1) % 2 == 0:\n",
    "        # 正向报数\n",
    "        return josephus(n, m)\n",
    "    else:\n",
    "        # 反向报数\n",
    "        # 逆序编号，然后应用约瑟夫环算法\n",
    "        return n + 1 - josephus(n, m)\n",
    "\n",
    "# 输入\n",
    "n, m = map(int, input().split())\n",
    "# 输出\n",
    "print(find_last_person(n, m))\n"
   ]
  },
  {
   "cell_type": "code",
   "execution_count": 23,
   "metadata": {},
   "outputs": [
    {
     "name": "stdout",
     "output_type": "stream",
     "text": [
      "2\n"
     ]
    }
   ],
   "source": [
    "def find_last_person(n, m):\n",
    "    people = list(range(1, n + 1))\n",
    "    index = 0  # 报数的起始位置\n",
    "    direction = 1  # 报数的方向，1 表示从左到右，-1 表示从右到左\n",
    "    while len(people) > 1:\n",
    "        index = (index + (m - 1) * direction) % len(people)  # 计算出列的人的位置\n",
    "        people.pop(index)  # 出列\n",
    "        # 如果到达队列的两端，则改变报数的方向\n",
    "        if index == 0:\n",
    "            direction = 1  # 改为从左到右\n",
    "        elif index == len(people):\n",
    "            direction = -1  # 改为从右到左\n",
    "            index = len(people) - 1  # 调整索引到队列的最后一个人\n",
    "    return people[0]\n",
    "\n",
    "# 输入\n",
    "n, m = map(int, input().split())\n",
    "# 输出\n",
    "print(find_last_person(n, m))\n"
   ]
  },
  {
   "cell_type": "code",
   "execution_count": 27,
   "metadata": {},
   "outputs": [
    {
     "name": "stdout",
     "output_type": "stream",
     "text": [
      "1\n"
     ]
    }
   ],
   "source": [
    "from collections import deque\n",
    "\n",
    "def lastRemaining(n, m):\n",
    "    people = deque(range(1, n + 1))\n",
    "    direction = 1\n",
    "\n",
    "    while len(people) > 1:\n",
    "        # 如果方向是正的，即从左到右\n",
    "        if direction == 1:\n",
    "            for _ in range(m - 1):  # m-1次将前端的数字移到后端\n",
    "                people.append(people.popleft())\n",
    "            people.popleft()  # 第m次将前端的数字删除\n",
    "        # 如果方向是负的，即从右到左\n",
    "        else:\n",
    "            for _ in range(m - 1):  # m-1次将后端的数字移到前端\n",
    "                people.appendleft(people.pop())\n",
    "            people.pop()  # 第m次将后端的数字删除\n",
    "\n",
    "        direction = -direction  # 改变方向\n",
    "\n",
    "    return people[0]  # 最后只剩下一个数字\n",
    "\n",
    "# n, m = map(int, input().split())\n",
    "n,m = 5,3\n",
    "print(lastRemaining(n, m))\n"
   ]
  },
  {
   "cell_type": "code",
   "execution_count": 8,
   "metadata": {},
   "outputs": [
    {
     "name": "stdout",
     "output_type": "stream",
     "text": [
      "3\n"
     ]
    }
   ],
   "source": [
    "\n",
    "def l_sub(nums: list[int]) -> int:\n",
    "        ans = 0\n",
    "        p0 = p1 = 0\n",
    "        for num in nums:\n",
    "            if num == 0:\n",
    "                p1, p0 = p0, 0\n",
    "            else:\n",
    "                p0 += 1\n",
    "                p1 += 1\n",
    "            ans = max(ans, p1)\n",
    "        if ans == len(nums):\n",
    "            ans -= 1\n",
    "        return ans\n",
    "\n",
    "if __name__ == '__main__':\n",
    "    \n",
    "\n",
    "    # 输入\n",
    "    nums = list(map(int, input().strip()[1:-1].split(',')))\n",
    "\n",
    "    # 输出\n",
    "    print(l_sub(nums))\n"
   ]
  },
  {
   "cell_type": "code",
   "execution_count": 10,
   "metadata": {},
   "outputs": [
    {
     "name": "stdout",
     "output_type": "stream",
     "text": [
      "-1\n"
     ]
    }
   ],
   "source": [
    "def compare_version(version1, version2):\n",
    "    v1_list = version1.split('.')\n",
    "    v2_list = version2.split('.')\n",
    "    \n",
    "    max_num_revisions = max(len(v1_list), len(v2_list))\n",
    "\n",
    "    for i in range(max_num_revisions):\n",
    "        v1_revision = v1_list[i] if i < len(v1_list) else '0'\n",
    "        v2_revision = v2_list[i] if i < len(v2_list) else '0'\n",
    "\n",
    "        # 比较两个修订号的长度并补0\n",
    "        max_len_revision = max(len(v1_revision), len(v2_revision))\n",
    "        v1_revision = v1_revision.ljust(max_len_revision, '0')\n",
    "        v2_revision = v2_revision.ljust(max_len_revision, '0')\n",
    "        \n",
    "        if v1_revision > v2_revision:\n",
    "            return 1\n",
    "        elif v1_revision < v2_revision:\n",
    "            return -1\n",
    "    \n",
    "    return 0\n",
    "\n",
    "\n",
    "\n",
    "# 测试\n",
    "\n",
    "version1, version2 = input().split(',')\n",
    "print(compare_version(version1, version2))\n"
   ]
  },
  {
   "cell_type": "code",
   "execution_count": 12,
   "metadata": {},
   "outputs": [
    {
     "name": "stdout",
     "output_type": "stream",
     "text": [
      "1\n"
     ]
    }
   ],
   "source": [
    "def compare_version(version1, version2):\n",
    "    # 按'.'拆分版本号\n",
    "    v1 = version1.split('.')\n",
    "    v2 = version2.split('.')\n",
    "    \n",
    "    # 获取两个版本号中的最大长度\n",
    "    max_len = max(len(v1), len(v2))\n",
    "    \n",
    "    # 对较短的版本号进行补零\n",
    "    while len(v1) < max_len:\n",
    "        v1.append('0')\n",
    "    while len(v2) < max_len:\n",
    "        v2.append('0')\n",
    "    \n",
    "    # 按从左到右的顺序进行比较\n",
    "    for i in range(max_len):\n",
    "        # 将修订号转化为整数进行比较\n",
    "        int_v1 = int(v1[i])\n",
    "        int_v2 = int(v2[i])\n",
    "        if int_v1 > int_v2:\n",
    "            return 1\n",
    "        elif int_v1 < int_v2:\n",
    "            return -1\n",
    "\n",
    "    # 如果所有的修订号都相同，返回0\n",
    "    return 0\n",
    "\n",
    "# 输入\n",
    "input_str = input().strip()\n",
    "version1, version2 = input_str.split(',')\n",
    "# 输出比较结果\n",
    "print(compare_version(version1, version2))\n"
   ]
  },
  {
   "cell_type": "code",
   "execution_count": 17,
   "metadata": {},
   "outputs": [
    {
     "name": "stdout",
     "output_type": "stream",
     "text": [
      "0\n"
     ]
    }
   ],
   "source": [
    "def remove_leading_zeros(s):\n",
    "    return s.lstrip('0') or '0'\n",
    "\n",
    "def compare_version(version1, version2):\n",
    "    # 按'.'拆分版本号\n",
    "    v1 = version1.split('.')\n",
    "    v2 = version2.split('.')\n",
    "    \n",
    "    # 获取两个版本号中的最大长度\n",
    "    max_len = max(len(v1), len(v2))\n",
    "    \n",
    "    # 对较短的版本号进行补零\n",
    "    while len(v1) < max_len:\n",
    "        v1.append('0')\n",
    "    while len(v2) < max_len:\n",
    "        v2.append('0')\n",
    "    \n",
    "    # 按从左到右的顺序进行比较\n",
    "    for i in range(max_len):\n",
    "        v1_i = int(remove_leading_zeros(v1[i]))\n",
    "        v2_i = int(remove_leading_zeros(v2[i]))\n",
    "\n",
    "        if v1_i > v2_i:\n",
    "            return 1\n",
    "        elif v1_i < v2_i:\n",
    "            return -1\n",
    "\n",
    "    # 如果所有的修订号都相同，返回0\n",
    "    return 0\n",
    "\n",
    "# 输入\n",
    "input_str = input().strip()\n",
    "version1, version2 = input_str.split(',')\n",
    "# 输出比较结果\n",
    "print(compare_version(version1, version2))\n"
   ]
  },
  {
   "cell_type": "code",
   "execution_count": 35,
   "metadata": {},
   "outputs": [
    {
     "name": "stdout",
     "output_type": "stream",
     "text": [
      "True\n",
      "True\n",
      "False\n",
      "1002\n",
      "1000000\n"
     ]
    }
   ],
   "source": [
    "print(int(remove_leading_zeros('0001002')) > int('2'))\n",
    "print('2' > '1')\n",
    "print(remove_leading_zeros('0001002')> '2')\n",
    "print(remove_leading_zeros('0001002'))\n",
    "print(int('000000000000000000000000000001000000'))"
   ]
  }
 ],
 "metadata": {
  "kernelspec": {
   "display_name": "tensorflow_gpu",
   "language": "python",
   "name": "python3"
  },
  "language_info": {
   "codemirror_mode": {
    "name": "ipython",
    "version": 3
   },
   "file_extension": ".py",
   "mimetype": "text/x-python",
   "name": "python",
   "nbconvert_exporter": "python",
   "pygments_lexer": "ipython3",
   "version": "3.9.15"
  }
 },
 "nbformat": 4,
 "nbformat_minor": 2
}
